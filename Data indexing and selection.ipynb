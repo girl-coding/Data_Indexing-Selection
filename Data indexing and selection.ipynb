{
 "cells": [
  {
   "cell_type": "code",
   "execution_count": 1,
   "id": "20306426",
   "metadata": {},
   "outputs": [],
   "source": [
    "import pandas as pd\n",
    "import numpy as np"
   ]
  },
  {
   "cell_type": "code",
   "execution_count": 3,
   "id": "fb39de2d",
   "metadata": {},
   "outputs": [],
   "source": [
    "exam_data = {'name': ['Anjum', 'Anali', 'Souria', 'Rockea', 'Imani', 'Mouliya', 'Julie', 'Rana', 'Kavin', 'Bosia'],\n",
    "'score': [15.5, 9, 16.5, np.nan, 9, 30, 17.5, np.nan, 8, 20],\n",
    "'attempts': [1, 3, 2, 3, 2, 3, 1, 1, 2, 1],\n",
    "'qualify': ['yes', 'no', 'yes', 'no', 'no', 'yes', 'yes', 'no', 'no', 'yes']}\n",
    "labels = ['A', 'B', 'C', 'D', 'E', 'F', 'G', 'H', 'I', 'J']"
   ]
  },
  {
   "cell_type": "markdown",
   "id": "679b1cb3",
   "metadata": {},
   "source": [
    "For the data set given below construct the DataFrame object"
   ]
  },
  {
   "cell_type": "code",
   "execution_count": 4,
   "id": "1a495d5b",
   "metadata": {},
   "outputs": [
    {
     "name": "stdout",
     "output_type": "stream",
     "text": [
      "      name  score  attempts qualify\n",
      "A    Anjum   15.5         1     yes\n",
      "B    Anali    9.0         3      no\n",
      "C   Souria   16.5         2     yes\n",
      "D   Rockea    NaN         3      no\n",
      "E    Imani    9.0         2      no\n",
      "F  Mouliya   30.0         3     yes\n",
      "G    Julie   17.5         1     yes\n",
      "H     Rana    NaN         1      no\n",
      "I    Kavin    8.0         2      no\n",
      "J    Bosia   20.0         1     yes\n"
     ]
    }
   ],
   "source": [
    "data = pd.DataFrame(exam_data, index = labels)\n",
    "print(data)"
   ]
  },
  {
   "cell_type": "markdown",
   "id": "7bb359e9",
   "metadata": {},
   "source": [
    "Get the first four rows of a DataFrame using indexing method"
   ]
  },
  {
   "cell_type": "code",
   "execution_count": 5,
   "id": "46c8eb0d",
   "metadata": {},
   "outputs": [
    {
     "name": "stdout",
     "output_type": "stream",
     "text": [
      "     name  score  attempts qualify\n",
      "A   Anjum   15.5         1     yes\n",
      "B   Anali    9.0         3      no\n",
      "C  Souria   16.5         2     yes\n",
      "D  Rockea    NaN         3      no\n"
     ]
    }
   ],
   "source": [
    "print(data.iloc[:4])"
   ]
  },
  {
   "cell_type": "code",
   "execution_count": 6,
   "id": "011e5ee9",
   "metadata": {},
   "outputs": [
    {
     "name": "stdout",
     "output_type": "stream",
     "text": [
      "      name  score  attempts qualify\n",
      "A    Anjum   15.5         1     yes\n",
      "B    Anali    9.0         3      no\n",
      "C   Souria   16.5         2     yes\n",
      "D   Rockea    NaN         3      no\n",
      "E    Imani    9.0         2      no\n",
      "F  Mouliya   30.0         3     yes\n",
      "G    Julie   17.5         1     yes\n",
      "H     Rana    NaN         1      no\n",
      "I    Kavin    8.0         2      no\n",
      "J    Bosia   20.0         1     yes\n"
     ]
    }
   ],
   "source": [
    "print(data)"
   ]
  },
  {
   "cell_type": "markdown",
   "id": "7c0c81fc",
   "metadata": {},
   "source": [
    "Select the columns 'score' and 'attempts' in rows 1, 3, 5, 7"
   ]
  },
  {
   "cell_type": "code",
   "execution_count": 7,
   "id": "b94c2cf4",
   "metadata": {},
   "outputs": [
    {
     "data": {
      "text/html": [
       "<div>\n",
       "<style scoped>\n",
       "    .dataframe tbody tr th:only-of-type {\n",
       "        vertical-align: middle;\n",
       "    }\n",
       "\n",
       "    .dataframe tbody tr th {\n",
       "        vertical-align: top;\n",
       "    }\n",
       "\n",
       "    .dataframe thead th {\n",
       "        text-align: right;\n",
       "    }\n",
       "</style>\n",
       "<table border=\"1\" class=\"dataframe\">\n",
       "  <thead>\n",
       "    <tr style=\"text-align: right;\">\n",
       "      <th></th>\n",
       "      <th>score</th>\n",
       "      <th>attempts</th>\n",
       "    </tr>\n",
       "  </thead>\n",
       "  <tbody>\n",
       "    <tr>\n",
       "      <th>B</th>\n",
       "      <td>9.0</td>\n",
       "      <td>3</td>\n",
       "    </tr>\n",
       "    <tr>\n",
       "      <th>D</th>\n",
       "      <td>NaN</td>\n",
       "      <td>3</td>\n",
       "    </tr>\n",
       "    <tr>\n",
       "      <th>F</th>\n",
       "      <td>30.0</td>\n",
       "      <td>3</td>\n",
       "    </tr>\n",
       "    <tr>\n",
       "      <th>H</th>\n",
       "      <td>NaN</td>\n",
       "      <td>1</td>\n",
       "    </tr>\n",
       "  </tbody>\n",
       "</table>\n",
       "</div>"
      ],
      "text/plain": [
       "   score  attempts\n",
       "B    9.0         3\n",
       "D    NaN         3\n",
       "F   30.0         3\n",
       "H    NaN         1"
      ]
     },
     "execution_count": 7,
     "metadata": {},
     "output_type": "execute_result"
    }
   ],
   "source": [
    "data.iloc[[1,3,5,7],[1,2]]"
   ]
  },
  {
   "cell_type": "markdown",
   "id": "30da00c7",
   "metadata": {},
   "source": [
    "Count the number of rows and columns without shape attribute"
   ]
  },
  {
   "cell_type": "code",
   "execution_count": 9,
   "id": "2bb125df",
   "metadata": {},
   "outputs": [
    {
     "data": {
      "text/plain": [
       "Index(['A', 'B', 'C', 'D', 'E', 'F', 'G', 'H', 'I', 'J'], dtype='object')"
      ]
     },
     "execution_count": 9,
     "metadata": {},
     "output_type": "execute_result"
    }
   ],
   "source": [
    "data.axes[0]"
   ]
  },
  {
   "cell_type": "code",
   "execution_count": 10,
   "id": "4b4b4607",
   "metadata": {},
   "outputs": [
    {
     "data": {
      "text/plain": [
       "Index(['name', 'score', 'attempts', 'qualify'], dtype='object')"
      ]
     },
     "execution_count": 10,
     "metadata": {},
     "output_type": "execute_result"
    }
   ],
   "source": [
    "data.axes[1]"
   ]
  },
  {
   "cell_type": "code",
   "execution_count": 11,
   "id": "62705ce1",
   "metadata": {},
   "outputs": [
    {
     "name": "stdout",
     "output_type": "stream",
     "text": [
      "The number of rows: 10\n",
      "The number of rows: 4\n"
     ]
    }
   ],
   "source": [
    "print('The number of rows:', len(data.axes[0]))\n",
    "print('The number of rows:', len(data.axes[1]))\n",
    "\n"
   ]
  },
  {
   "cell_type": "markdown",
   "id": "09ec3bc8",
   "metadata": {},
   "source": [
    "Select the rows where the score is between 16 and 20"
   ]
  },
  {
   "cell_type": "code",
   "execution_count": 14,
   "id": "a97379f4",
   "metadata": {},
   "outputs": [
    {
     "name": "stdout",
     "output_type": "stream",
     "text": [
      "      name  score  attempts qualify\n",
      "A    Anjum   15.5         1     yes\n",
      "B    Anali    9.0         3      no\n",
      "C   Souria   16.5         2     yes\n",
      "D   Rockea    NaN         3      no\n",
      "E    Imani    9.0         2      no\n",
      "F  Mouliya   30.0         3     yes\n",
      "G    Julie   17.5         1     yes\n",
      "H     Rana    NaN         1      no\n",
      "I    Kavin    8.0         2      no\n",
      "J    Bosia   20.0         1     yes\n"
     ]
    }
   ],
   "source": [
    "print(data)"
   ]
  },
  {
   "cell_type": "code",
   "execution_count": 16,
   "id": "8ed3717e",
   "metadata": {},
   "outputs": [
    {
     "data": {
      "text/plain": [
       "A    False\n",
       "B    False\n",
       "C     True\n",
       "D    False\n",
       "E    False\n",
       "F    False\n",
       "G     True\n",
       "H    False\n",
       "I    False\n",
       "J     True\n",
       "Name: score, dtype: bool"
      ]
     },
     "execution_count": 16,
     "metadata": {},
     "output_type": "execute_result"
    }
   ],
   "source": [
    "selection = data['score'].between(16, 20)\n",
    "selection"
   ]
  },
  {
   "cell_type": "code",
   "execution_count": 17,
   "id": "cd9cd195",
   "metadata": {},
   "outputs": [
    {
     "name": "stdout",
     "output_type": "stream",
     "text": [
      "     name  score  attempts qualify\n",
      "C  Souria   16.5         2     yes\n",
      "G   Julie   17.5         1     yes\n",
      "J   Bosia   20.0         1     yes\n"
     ]
    }
   ],
   "source": [
    "print(data[selection])"
   ]
  },
  {
   "cell_type": "markdown",
   "id": "857672e9",
   "metadata": {},
   "source": [
    "Select the rows where number of attempts in the examination is less than 2 and score is greater than 16"
   ]
  },
  {
   "cell_type": "code",
   "execution_count": 18,
   "id": "c1471e07",
   "metadata": {},
   "outputs": [
    {
     "name": "stdout",
     "output_type": "stream",
     "text": [
      "      name  score  attempts qualify\n",
      "A    Anjum   15.5         1     yes\n",
      "B    Anali    9.0         3      no\n",
      "C   Souria   16.5         2     yes\n",
      "D   Rockea    NaN         3      no\n",
      "E    Imani    9.0         2      no\n",
      "F  Mouliya   30.0         3     yes\n",
      "G    Julie   17.5         1     yes\n",
      "H     Rana    NaN         1      no\n",
      "I    Kavin    8.0         2      no\n",
      "J    Bosia   20.0         1     yes\n"
     ]
    }
   ],
   "source": [
    "print(data)"
   ]
  },
  {
   "cell_type": "code",
   "execution_count": 19,
   "id": "3d579417",
   "metadata": {},
   "outputs": [
    {
     "data": {
      "text/plain": [
       "A     True\n",
       "B    False\n",
       "C    False\n",
       "D    False\n",
       "E    False\n",
       "F    False\n",
       "G     True\n",
       "H     True\n",
       "I    False\n",
       "J     True\n",
       "Name: attempts, dtype: bool"
      ]
     },
     "execution_count": 19,
     "metadata": {},
     "output_type": "execute_result"
    }
   ],
   "source": [
    "(data['attempts'] < 2)"
   ]
  },
  {
   "cell_type": "code",
   "execution_count": 23,
   "id": "dfdc82da",
   "metadata": {},
   "outputs": [
    {
     "data": {
      "text/plain": [
       "A    False\n",
       "B    False\n",
       "C     True\n",
       "D    False\n",
       "E    False\n",
       "F     True\n",
       "G     True\n",
       "H    False\n",
       "I    False\n",
       "J     True\n",
       "Name: score, dtype: bool"
      ]
     },
     "execution_count": 23,
     "metadata": {},
     "output_type": "execute_result"
    }
   ],
   "source": [
    "(data['score'] > 16)"
   ]
  },
  {
   "cell_type": "code",
   "execution_count": 24,
   "id": "c752b7e9",
   "metadata": {},
   "outputs": [],
   "source": [
    "condition =  (data['attempts'] < 2) & (data['score'] > 16)"
   ]
  },
  {
   "cell_type": "code",
   "execution_count": 25,
   "id": "d73a319c",
   "metadata": {},
   "outputs": [
    {
     "name": "stdout",
     "output_type": "stream",
     "text": [
      "    name  score  attempts qualify\n",
      "G  Julie   17.5         1     yes\n",
      "J  Bosia   20.0         1     yes\n"
     ]
    }
   ],
   "source": [
    "print(data[condition])"
   ]
  },
  {
   "cell_type": "markdown",
   "id": "051c2954",
   "metadata": {},
   "source": [
    "For the DataFrame created ;\n",
    "1. Change the score of rows 'C' and 'I' to 16\n",
    "2. Calculate the sum of the examination attempts by the students\n",
    "3. Add new row with the details name: 'Rupali', score: 16, attempts: 2, qualify: 'yes', label: 'L'. After adding the new row display it and remove it to maintain\n",
    "the original DataFrame.\n",
    "4. Remove the last 4 rows and save it as a new DataFrame."
   ]
  },
  {
   "cell_type": "code",
   "execution_count": 26,
   "id": "271ac45b",
   "metadata": {},
   "outputs": [
    {
     "name": "stdout",
     "output_type": "stream",
     "text": [
      "      name  score  attempts qualify\n",
      "A    Anjum   15.5         1     yes\n",
      "B    Anali    9.0         3      no\n",
      "C   Souria   16.5         2     yes\n",
      "D   Rockea    NaN         3      no\n",
      "E    Imani    9.0         2      no\n",
      "F  Mouliya   30.0         3     yes\n",
      "G    Julie   17.5         1     yes\n",
      "H     Rana    NaN         1      no\n",
      "I    Kavin    8.0         2      no\n",
      "J    Bosia   20.0         1     yes\n"
     ]
    }
   ],
   "source": [
    "print(data)"
   ]
  },
  {
   "cell_type": "code",
   "execution_count": 27,
   "id": "3fbfe24f",
   "metadata": {},
   "outputs": [
    {
     "data": {
      "text/html": [
       "<div>\n",
       "<style scoped>\n",
       "    .dataframe tbody tr th:only-of-type {\n",
       "        vertical-align: middle;\n",
       "    }\n",
       "\n",
       "    .dataframe tbody tr th {\n",
       "        vertical-align: top;\n",
       "    }\n",
       "\n",
       "    .dataframe thead th {\n",
       "        text-align: right;\n",
       "    }\n",
       "</style>\n",
       "<table border=\"1\" class=\"dataframe\">\n",
       "  <thead>\n",
       "    <tr style=\"text-align: right;\">\n",
       "      <th></th>\n",
       "      <th>name</th>\n",
       "      <th>score</th>\n",
       "      <th>attempts</th>\n",
       "      <th>qualify</th>\n",
       "    </tr>\n",
       "  </thead>\n",
       "  <tbody>\n",
       "    <tr>\n",
       "      <th>A</th>\n",
       "      <td>Anjum</td>\n",
       "      <td>15.5</td>\n",
       "      <td>1</td>\n",
       "      <td>yes</td>\n",
       "    </tr>\n",
       "    <tr>\n",
       "      <th>B</th>\n",
       "      <td>Anali</td>\n",
       "      <td>9.0</td>\n",
       "      <td>3</td>\n",
       "      <td>no</td>\n",
       "    </tr>\n",
       "    <tr>\n",
       "      <th>C</th>\n",
       "      <td>Souria</td>\n",
       "      <td>16.0</td>\n",
       "      <td>2</td>\n",
       "      <td>yes</td>\n",
       "    </tr>\n",
       "    <tr>\n",
       "      <th>D</th>\n",
       "      <td>Rockea</td>\n",
       "      <td>NaN</td>\n",
       "      <td>3</td>\n",
       "      <td>no</td>\n",
       "    </tr>\n",
       "    <tr>\n",
       "      <th>E</th>\n",
       "      <td>Imani</td>\n",
       "      <td>9.0</td>\n",
       "      <td>2</td>\n",
       "      <td>no</td>\n",
       "    </tr>\n",
       "    <tr>\n",
       "      <th>F</th>\n",
       "      <td>Mouliya</td>\n",
       "      <td>30.0</td>\n",
       "      <td>3</td>\n",
       "      <td>yes</td>\n",
       "    </tr>\n",
       "    <tr>\n",
       "      <th>G</th>\n",
       "      <td>Julie</td>\n",
       "      <td>17.5</td>\n",
       "      <td>1</td>\n",
       "      <td>yes</td>\n",
       "    </tr>\n",
       "    <tr>\n",
       "      <th>H</th>\n",
       "      <td>Rana</td>\n",
       "      <td>NaN</td>\n",
       "      <td>1</td>\n",
       "      <td>no</td>\n",
       "    </tr>\n",
       "    <tr>\n",
       "      <th>I</th>\n",
       "      <td>Kavin</td>\n",
       "      <td>16.0</td>\n",
       "      <td>2</td>\n",
       "      <td>no</td>\n",
       "    </tr>\n",
       "    <tr>\n",
       "      <th>J</th>\n",
       "      <td>Bosia</td>\n",
       "      <td>20.0</td>\n",
       "      <td>1</td>\n",
       "      <td>yes</td>\n",
       "    </tr>\n",
       "  </tbody>\n",
       "</table>\n",
       "</div>"
      ],
      "text/plain": [
       "      name  score  attempts qualify\n",
       "A    Anjum   15.5         1     yes\n",
       "B    Anali    9.0         3      no\n",
       "C   Souria   16.0         2     yes\n",
       "D   Rockea    NaN         3      no\n",
       "E    Imani    9.0         2      no\n",
       "F  Mouliya   30.0         3     yes\n",
       "G    Julie   17.5         1     yes\n",
       "H     Rana    NaN         1      no\n",
       "I    Kavin   16.0         2      no\n",
       "J    Bosia   20.0         1     yes"
      ]
     },
     "execution_count": 27,
     "metadata": {},
     "output_type": "execute_result"
    }
   ],
   "source": [
    "data.loc[['C', 'I'], 'score'] = 16\n",
    "data"
   ]
  },
  {
   "cell_type": "code",
   "execution_count": 28,
   "id": "36d7c0a2",
   "metadata": {},
   "outputs": [
    {
     "name": "stdout",
     "output_type": "stream",
     "text": [
      "      name  score  attempts qualify\n",
      "A    Anjum   15.5         1     yes\n",
      "B    Anali    9.0         3      no\n",
      "C   Souria   16.0         2     yes\n",
      "D   Rockea    NaN         3      no\n",
      "E    Imani    9.0         2      no\n",
      "F  Mouliya   30.0         3     yes\n",
      "G    Julie   17.5         1     yes\n",
      "H     Rana    NaN         1      no\n",
      "I    Kavin   16.0         2      no\n",
      "J    Bosia   20.0         1     yes\n"
     ]
    }
   ],
   "source": [
    "print(data)"
   ]
  },
  {
   "cell_type": "code",
   "execution_count": 29,
   "id": "efcc0d35",
   "metadata": {},
   "outputs": [
    {
     "name": "stdout",
     "output_type": "stream",
     "text": [
      "19\n"
     ]
    }
   ],
   "source": [
    "print(data['attempts'].sum())"
   ]
  },
  {
   "cell_type": "code",
   "execution_count": 30,
   "id": "6f1f8e19",
   "metadata": {},
   "outputs": [
    {
     "data": {
      "text/html": [
       "<div>\n",
       "<style scoped>\n",
       "    .dataframe tbody tr th:only-of-type {\n",
       "        vertical-align: middle;\n",
       "    }\n",
       "\n",
       "    .dataframe tbody tr th {\n",
       "        vertical-align: top;\n",
       "    }\n",
       "\n",
       "    .dataframe thead th {\n",
       "        text-align: right;\n",
       "    }\n",
       "</style>\n",
       "<table border=\"1\" class=\"dataframe\">\n",
       "  <thead>\n",
       "    <tr style=\"text-align: right;\">\n",
       "      <th></th>\n",
       "      <th>name</th>\n",
       "      <th>score</th>\n",
       "      <th>attempts</th>\n",
       "      <th>qualify</th>\n",
       "    </tr>\n",
       "  </thead>\n",
       "  <tbody>\n",
       "    <tr>\n",
       "      <th>A</th>\n",
       "      <td>Anjum</td>\n",
       "      <td>15.5</td>\n",
       "      <td>1</td>\n",
       "      <td>yes</td>\n",
       "    </tr>\n",
       "    <tr>\n",
       "      <th>B</th>\n",
       "      <td>Anali</td>\n",
       "      <td>9.0</td>\n",
       "      <td>3</td>\n",
       "      <td>no</td>\n",
       "    </tr>\n",
       "    <tr>\n",
       "      <th>C</th>\n",
       "      <td>Souria</td>\n",
       "      <td>16.0</td>\n",
       "      <td>2</td>\n",
       "      <td>yes</td>\n",
       "    </tr>\n",
       "    <tr>\n",
       "      <th>D</th>\n",
       "      <td>Rockea</td>\n",
       "      <td>NaN</td>\n",
       "      <td>3</td>\n",
       "      <td>no</td>\n",
       "    </tr>\n",
       "    <tr>\n",
       "      <th>E</th>\n",
       "      <td>Imani</td>\n",
       "      <td>9.0</td>\n",
       "      <td>2</td>\n",
       "      <td>no</td>\n",
       "    </tr>\n",
       "    <tr>\n",
       "      <th>F</th>\n",
       "      <td>Mouliya</td>\n",
       "      <td>30.0</td>\n",
       "      <td>3</td>\n",
       "      <td>yes</td>\n",
       "    </tr>\n",
       "    <tr>\n",
       "      <th>G</th>\n",
       "      <td>Julie</td>\n",
       "      <td>17.5</td>\n",
       "      <td>1</td>\n",
       "      <td>yes</td>\n",
       "    </tr>\n",
       "    <tr>\n",
       "      <th>H</th>\n",
       "      <td>Rana</td>\n",
       "      <td>NaN</td>\n",
       "      <td>1</td>\n",
       "      <td>no</td>\n",
       "    </tr>\n",
       "    <tr>\n",
       "      <th>I</th>\n",
       "      <td>Kavin</td>\n",
       "      <td>16.0</td>\n",
       "      <td>2</td>\n",
       "      <td>no</td>\n",
       "    </tr>\n",
       "    <tr>\n",
       "      <th>J</th>\n",
       "      <td>Bosia</td>\n",
       "      <td>20.0</td>\n",
       "      <td>1</td>\n",
       "      <td>yes</td>\n",
       "    </tr>\n",
       "    <tr>\n",
       "      <th>L</th>\n",
       "      <td>Rupali</td>\n",
       "      <td>16.0</td>\n",
       "      <td>2</td>\n",
       "      <td>yes</td>\n",
       "    </tr>\n",
       "  </tbody>\n",
       "</table>\n",
       "</div>"
      ],
      "text/plain": [
       "      name  score  attempts qualify\n",
       "A    Anjum   15.5         1     yes\n",
       "B    Anali    9.0         3      no\n",
       "C   Souria   16.0         2     yes\n",
       "D   Rockea    NaN         3      no\n",
       "E    Imani    9.0         2      no\n",
       "F  Mouliya   30.0         3     yes\n",
       "G    Julie   17.5         1     yes\n",
       "H     Rana    NaN         1      no\n",
       "I    Kavin   16.0         2      no\n",
       "J    Bosia   20.0         1     yes\n",
       "L   Rupali   16.0         2     yes"
      ]
     },
     "execution_count": 30,
     "metadata": {},
     "output_type": "execute_result"
    }
   ],
   "source": [
    "data.loc['L'] = ['Rupali', 16, 2, 'yes']\n",
    "data"
   ]
  },
  {
   "cell_type": "code",
   "execution_count": 31,
   "id": "babf2c30",
   "metadata": {},
   "outputs": [
    {
     "data": {
      "text/html": [
       "<div>\n",
       "<style scoped>\n",
       "    .dataframe tbody tr th:only-of-type {\n",
       "        vertical-align: middle;\n",
       "    }\n",
       "\n",
       "    .dataframe tbody tr th {\n",
       "        vertical-align: top;\n",
       "    }\n",
       "\n",
       "    .dataframe thead th {\n",
       "        text-align: right;\n",
       "    }\n",
       "</style>\n",
       "<table border=\"1\" class=\"dataframe\">\n",
       "  <thead>\n",
       "    <tr style=\"text-align: right;\">\n",
       "      <th></th>\n",
       "      <th>name</th>\n",
       "      <th>score</th>\n",
       "      <th>attempts</th>\n",
       "      <th>qualify</th>\n",
       "    </tr>\n",
       "  </thead>\n",
       "  <tbody>\n",
       "    <tr>\n",
       "      <th>A</th>\n",
       "      <td>Anjum</td>\n",
       "      <td>15.5</td>\n",
       "      <td>1</td>\n",
       "      <td>yes</td>\n",
       "    </tr>\n",
       "    <tr>\n",
       "      <th>B</th>\n",
       "      <td>Anali</td>\n",
       "      <td>9.0</td>\n",
       "      <td>3</td>\n",
       "      <td>no</td>\n",
       "    </tr>\n",
       "    <tr>\n",
       "      <th>C</th>\n",
       "      <td>Souria</td>\n",
       "      <td>16.0</td>\n",
       "      <td>2</td>\n",
       "      <td>yes</td>\n",
       "    </tr>\n",
       "    <tr>\n",
       "      <th>D</th>\n",
       "      <td>Rockea</td>\n",
       "      <td>NaN</td>\n",
       "      <td>3</td>\n",
       "      <td>no</td>\n",
       "    </tr>\n",
       "    <tr>\n",
       "      <th>E</th>\n",
       "      <td>Imani</td>\n",
       "      <td>9.0</td>\n",
       "      <td>2</td>\n",
       "      <td>no</td>\n",
       "    </tr>\n",
       "    <tr>\n",
       "      <th>F</th>\n",
       "      <td>Mouliya</td>\n",
       "      <td>30.0</td>\n",
       "      <td>3</td>\n",
       "      <td>yes</td>\n",
       "    </tr>\n",
       "    <tr>\n",
       "      <th>G</th>\n",
       "      <td>Julie</td>\n",
       "      <td>17.5</td>\n",
       "      <td>1</td>\n",
       "      <td>yes</td>\n",
       "    </tr>\n",
       "    <tr>\n",
       "      <th>H</th>\n",
       "      <td>Rana</td>\n",
       "      <td>NaN</td>\n",
       "      <td>1</td>\n",
       "      <td>no</td>\n",
       "    </tr>\n",
       "    <tr>\n",
       "      <th>I</th>\n",
       "      <td>Kavin</td>\n",
       "      <td>16.0</td>\n",
       "      <td>2</td>\n",
       "      <td>no</td>\n",
       "    </tr>\n",
       "    <tr>\n",
       "      <th>J</th>\n",
       "      <td>Bosia</td>\n",
       "      <td>20.0</td>\n",
       "      <td>1</td>\n",
       "      <td>yes</td>\n",
       "    </tr>\n",
       "  </tbody>\n",
       "</table>\n",
       "</div>"
      ],
      "text/plain": [
       "      name  score  attempts qualify\n",
       "A    Anjum   15.5         1     yes\n",
       "B    Anali    9.0         3      no\n",
       "C   Souria   16.0         2     yes\n",
       "D   Rockea    NaN         3      no\n",
       "E    Imani    9.0         2      no\n",
       "F  Mouliya   30.0         3     yes\n",
       "G    Julie   17.5         1     yes\n",
       "H     Rana    NaN         1      no\n",
       "I    Kavin   16.0         2      no\n",
       "J    Bosia   20.0         1     yes"
      ]
     },
     "execution_count": 31,
     "metadata": {},
     "output_type": "execute_result"
    }
   ],
   "source": [
    "data_new = data.iloc[: -1, :]\n",
    "data_new"
   ]
  },
  {
   "cell_type": "code",
   "execution_count": 32,
   "id": "b907227a",
   "metadata": {},
   "outputs": [],
   "source": [
    "data.drop('L', inplace=True)"
   ]
  },
  {
   "cell_type": "code",
   "execution_count": 33,
   "id": "0804b746",
   "metadata": {},
   "outputs": [
    {
     "name": "stdout",
     "output_type": "stream",
     "text": [
      "      name  score  attempts qualify\n",
      "A    Anjum   15.5         1     yes\n",
      "B    Anali    9.0         3      no\n",
      "C   Souria   16.0         2     yes\n",
      "D   Rockea    NaN         3      no\n",
      "E    Imani    9.0         2      no\n",
      "F  Mouliya   30.0         3     yes\n",
      "G    Julie   17.5         1     yes\n",
      "H     Rana    NaN         1      no\n",
      "I    Kavin   16.0         2      no\n",
      "J    Bosia   20.0         1     yes\n"
     ]
    }
   ],
   "source": [
    "print(data)"
   ]
  },
  {
   "cell_type": "code",
   "execution_count": 34,
   "id": "292c3ca4",
   "metadata": {},
   "outputs": [],
   "source": [
    "# we can use -4 index to remove the last 4 raws inside the iloc "
   ]
  },
  {
   "cell_type": "code",
   "execution_count": 35,
   "id": "2a60489c",
   "metadata": {},
   "outputs": [
    {
     "data": {
      "text/html": [
       "<div>\n",
       "<style scoped>\n",
       "    .dataframe tbody tr th:only-of-type {\n",
       "        vertical-align: middle;\n",
       "    }\n",
       "\n",
       "    .dataframe tbody tr th {\n",
       "        vertical-align: top;\n",
       "    }\n",
       "\n",
       "    .dataframe thead th {\n",
       "        text-align: right;\n",
       "    }\n",
       "</style>\n",
       "<table border=\"1\" class=\"dataframe\">\n",
       "  <thead>\n",
       "    <tr style=\"text-align: right;\">\n",
       "      <th></th>\n",
       "      <th>name</th>\n",
       "      <th>score</th>\n",
       "      <th>attempts</th>\n",
       "      <th>qualify</th>\n",
       "    </tr>\n",
       "  </thead>\n",
       "  <tbody>\n",
       "    <tr>\n",
       "      <th>A</th>\n",
       "      <td>Anjum</td>\n",
       "      <td>15.5</td>\n",
       "      <td>1</td>\n",
       "      <td>yes</td>\n",
       "    </tr>\n",
       "    <tr>\n",
       "      <th>B</th>\n",
       "      <td>Anali</td>\n",
       "      <td>9.0</td>\n",
       "      <td>3</td>\n",
       "      <td>no</td>\n",
       "    </tr>\n",
       "    <tr>\n",
       "      <th>C</th>\n",
       "      <td>Souria</td>\n",
       "      <td>16.0</td>\n",
       "      <td>2</td>\n",
       "      <td>yes</td>\n",
       "    </tr>\n",
       "    <tr>\n",
       "      <th>D</th>\n",
       "      <td>Rockea</td>\n",
       "      <td>NaN</td>\n",
       "      <td>3</td>\n",
       "      <td>no</td>\n",
       "    </tr>\n",
       "    <tr>\n",
       "      <th>E</th>\n",
       "      <td>Imani</td>\n",
       "      <td>9.0</td>\n",
       "      <td>2</td>\n",
       "      <td>no</td>\n",
       "    </tr>\n",
       "    <tr>\n",
       "      <th>F</th>\n",
       "      <td>Mouliya</td>\n",
       "      <td>30.0</td>\n",
       "      <td>3</td>\n",
       "      <td>yes</td>\n",
       "    </tr>\n",
       "  </tbody>\n",
       "</table>\n",
       "</div>"
      ],
      "text/plain": [
       "      name  score  attempts qualify\n",
       "A    Anjum   15.5         1     yes\n",
       "B    Anali    9.0         3      no\n",
       "C   Souria   16.0         2     yes\n",
       "D   Rockea    NaN         3      no\n",
       "E    Imani    9.0         2      no\n",
       "F  Mouliya   30.0         3     yes"
      ]
     },
     "execution_count": 35,
     "metadata": {},
     "output_type": "execute_result"
    }
   ],
   "source": [
    "new_data2 = data.iloc[: -4]\n",
    "new_data2"
   ]
  },
  {
   "cell_type": "code",
   "execution_count": null,
   "id": "8437705c",
   "metadata": {},
   "outputs": [],
   "source": []
  }
 ],
 "metadata": {
  "kernelspec": {
   "display_name": "Python 3 (ipykernel)",
   "language": "python",
   "name": "python3"
  },
  "language_info": {
   "codemirror_mode": {
    "name": "ipython",
    "version": 3
   },
   "file_extension": ".py",
   "mimetype": "text/x-python",
   "name": "python",
   "nbconvert_exporter": "python",
   "pygments_lexer": "ipython3",
   "version": "3.9.13"
  }
 },
 "nbformat": 4,
 "nbformat_minor": 5
}
